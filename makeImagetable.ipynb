{
 "cells": [
  {
   "cell_type": "markdown",
   "metadata": {},
   "source": [
    "### Create Image Table from images\n",
    "M.Amintoosi "
   ]
  },
  {
   "cell_type": "code",
   "execution_count": 70,
   "metadata": {},
   "outputs": [
    {
     "name": "stdout",
     "output_type": "stream",
     "text": [
      "output_x3/Urban100/img_053/high.jpg\n",
      "output_x3/Urban100/img_053/nn.jpg\n",
      "output_x3/Urban100/img_053/ID_rec.jpg\n",
      "output_x3/Urban100/img_053/FD-.2_rec.jpg\n",
      "output_x4/Urban100/img_053/high.jpg\n",
      "output_x4/Urban100/img_053/nn.jpg\n",
      "output_x4/Urban100/img_053/ID_rec.jpg\n",
      "output_x4/Urban100/img_053/FD-.2_rec.jpg\n",
      "output_x5/Urban100/img_053/high.jpg\n",
      "output_x5/Urban100/img_053/nn.jpg\n",
      "output_x5/Urban100/img_053/ID_rec.jpg\n",
      "output_x5/Urban100/img_053/FD-.2_rec.jpg\n"
     ]
    }
   ],
   "source": [
    "import subprocess\n",
    "\n",
    "cols = ['High','LR','ID','FD']\n",
    "methods = ['high','nn','ID_rec','FD-.2_rec']\n",
    "\n",
    "strTable = '\\documentclass{standalone} \\n'\n",
    "# strTable = strTable + '\\usepackage{graphicx}\\n'\n",
    "strTable = strTable + '\\\\usepackage{graphicx} \\n'\n",
    "strTable = strTable + '\\pagestyle{empty} \\n'\n",
    "strTable = strTable + '\\graphicspath{{Article/}} \\n'\n",
    "strTable = strTable + '\\\\begin{document} \\n'\n",
    "strTable = strTable + \"\\\\begin{tabular}\"\n",
    "strRW = '{'+5*'c'+'}'\n",
    "strTable = strTable+strRW+'\\n'\n",
    "strRW = 'Scale'\n",
    "for col in cols: \n",
    "    strRW = strRW+\" & \"+col\n",
    "strTable = strTable+strRW+'\\\\\\\\ \\n'\n",
    "startStr = strTable\n",
    "dsNames = ['Manga109','Set5','Set14','BSDS100','Urban100']\n",
    "imNames = ['YumeiroCooking','head','zebra','101085','img_053']\n",
    "# Manga: {0mm}{\\includegraphics[430 620 280 280,clip,width=0.1\n",
    "# Set5: 0mm}{\\includegraphics[trim=130 90 75 135,clip,width=0.12\n",
    "# Set14: {-5mm}{\\includegraphics[trim=120 230 370 50,clip,width=0.1\n",
    "# BSDS100: {0mm}{\\includegraphics[trim=10 300 170 20,clip,width=0.22\n",
    "# Urban100: \\\\raisebox{-1mm}{\\includegraphics[trim=50 300 610 200,clip,width=0.19\n",
    "# \\raisebox{10mm}{\\includegraphics[trim=50 450 650 450\n",
    "thisDSno = 4\n",
    "for i,dsName in enumerate(dsNames):\n",
    "    if i != thisDSno:\n",
    "        continue\n",
    "    strTable = startStr\n",
    "    imName = imNames[i]\n",
    "    for zoom in range(3,6):\n",
    "        strRW = str(zoom)\n",
    "        for m in methods:\n",
    "            fileName = 'output_x{:s}/{:s}/{:s}/{:s}.jpg'.format(str(zoom),dsName,imName,m)\n",
    "            print(fileName)\n",
    "            incFile = '\\includegraphics[width=0.29\\\\textwidth]{%s}'%(fileName)\n",
    "            strRW = strRW+ '&\\setbox1=\\hbox{%s}%s\\llap{\\\\raisebox{0mm}{\\includegraphics'%(incFile,incFile)\n",
    "            strRW = strRW+ '[trim=50 300 610 200,clip,width=0.19\\\\textwidth]{%s}}}'%(fileName)\n",
    "            strRW = strRW+'\\n'\n",
    "        strTable = strTable+strRW+'\\\\\\\\\\n'\n",
    "        \n",
    "    strTable = strTable+\"\\end{tabular}\\n\"\n",
    "    strTable = strTable+\"\\end{document}\"\n",
    "    texFileName = dsName+'.tex'\n",
    "    hs = open(texFileName, 'w')\n",
    "    hs.write(strTable)\n",
    "    hs.close() \n",
    "    subprocess.call(\"xelatex \"+texFileName)\n",
    "# print(strTable)\n",
    "# subprocess.call(\"xelatex set5\")\n",
    "##check_output(\"xelatex set5\")#, shell=True)"
   ]
  },
  {
   "cell_type": "code",
   "execution_count": 312,
   "metadata": {},
   "outputs": [
    {
     "name": "stdout",
     "output_type": "stream",
     "text": [
      "a[300, 280, 65, 85]\n"
     ]
    }
   ],
   "source": [
    "trim=[300, 280, 65, 85]\n",
    "print('a'+str(trim))"
   ]
  },
  {
   "cell_type": "code",
   "execution_count": null,
   "metadata": {},
   "outputs": [],
   "source": [
    "imNames = ['AisazuNihaIrarenai','baby','face','253027','img_053']\n",
    "# Manga: {0mm}{\\includegraphics[trim=330 670 265 350\n",
    "# Set5: 0mm}{\\includegraphics[trim=300 280 65 85\n",
    "# Set14: {-5mm}{\\includegraphics[trim=130 80 75 145\n",
    "# BSDS100: {0mm}{\\includegraphics[trim=20 100 370 120,clip,width=0.1\n",
    "# Urban100: \\\\raisebox{-1mm}{\\includegraphics[trim=50 300 610 200,clip,width=0.19\n"
   ]
  },
  {
   "cell_type": "code",
   "execution_count": null,
   "metadata": {},
   "outputs": [],
   "source": []
  }
 ],
 "metadata": {
  "kernelspec": {
   "display_name": "Python 3",
   "language": "python",
   "name": "python3"
  },
  "language_info": {
   "codemirror_mode": {
    "name": "ipython",
    "version": 3
   },
   "file_extension": ".py",
   "mimetype": "text/x-python",
   "name": "python",
   "nbconvert_exporter": "python",
   "pygments_lexer": "ipython3",
   "version": "3.6.10"
  }
 },
 "nbformat": 4,
 "nbformat_minor": 2
}